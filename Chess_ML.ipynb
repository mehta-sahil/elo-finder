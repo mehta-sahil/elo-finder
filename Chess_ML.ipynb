{
  "nbformat": 4,
  "nbformat_minor": 0,
  "metadata": {
    "colab": {
      "provenance": []
    },
    "kernelspec": {
      "name": "python3",
      "display_name": "Python 3"
    },
    "language_info": {
      "name": "python"
    }
  },
  "cells": [
    {
      "cell_type": "code",
      "execution_count": 4,
      "metadata": {
        "colab": {
          "base_uri": "https://localhost:8080/"
        },
        "id": "Vzi6Z0S1z9wI",
        "outputId": "f2208dd6-1764-4ce6-c58a-0a00da6b5799"
      },
      "outputs": [
        {
          "output_type": "stream",
          "name": "stdout",
          "text": [
            "replace data_uci.pgn? [y]es, [n]o, [A]ll, [N]one, [r]ename: n\n",
            "replace stockfish.csv? [y]es, [n]o, [A]ll, [N]one, [r]ename: n\n",
            "replace sampleSubmission.csv? [y]es, [n]o, [A]ll, [N]one, [r]ename: n\n"
          ]
        }
      ],
      "source": [
        "!unzip -q data_uci.pgn.zip\n",
        "!unzip -q stockfish.csv.zip\n",
        "!unzip -q sampleSubmission.csv.zip"
      ]
    },
    {
      "cell_type": "code",
      "source": [
        "\n",
        "!pip install python-chess\n",
        "\n",
        "import pandas as pd\n",
        "import numpy as np\n",
        "import chess.pgn\n",
        "import lightgbm as lgb\n",
        "from sklearn.model_selection import train_test_split\n",
        "from sklearn.metrics import mean_squared_error\n",
        "import warnings\n",
        "\n",
        "warnings.filterwarnings('ignore')\n",
        "\n",
        "print(\"Parsing PGN file to extract Elo ratings...\")\n",
        "pgnfile = open('data_uci.pgn')\n",
        "\n",
        "elodata = []\n",
        "gameid = 1\n",
        "while True:\n",
        "    game = chess.pgn.read_game(pgnfile)\n",
        "    if game is None:\n",
        "        break\n",
        "    try:\n",
        "        whiteelo = int(game.headers['WhiteElo'])\n",
        "        blackelo = int(game.headers['BlackElo'])\n",
        "        elodata.append({'Event': gameid, 'WhiteElo': whiteelo, 'BlackElo': blackelo})\n",
        "    except (ValueError, KeyError):\n",
        "        pass\n",
        "    gameid += 1\n",
        "\n",
        "elodf = pd.DataFrame(elodata)\n",
        "print(f\"Successfully extracted ratings for {len(elodf)} games.\")\n",
        "print(elodf.head())\n",
        "\n",
        "\n",
        "print(\"\\nLoading stockfish data and engineering features...\")\n",
        "stockfish = pd.read_csv('stockfish.csv')\n",
        "\n",
        "\n",
        "stockfish['movescores'] = stockfish['MoveScores'].apply(\n",
        "    lambda s: [int(x) for x in s.split() if x != 'NA'] if isinstance(s, str) else []\n",
        ")\n",
        "\n",
        "def calculate_loss(scores):\n",
        "    losses = []\n",
        "    for i in range(1, len(scores)):\n",
        "        loss = scores[i-1] - scores[i]\n",
        "        if loss > 0:\n",
        "            losses.append(loss)\n",
        "    return np.mean(losses) if losses else 0\n",
        "\n",
        "stockfish['avgloss'] = stockfish['movescores'].apply(calculate_loss)\n",
        "stockfish['stddev'] = stockfish['movescores'].apply(lambda s: np.std(s) if s else 0)\n",
        "stockfish['gamelength'] = stockfish['movescores'].apply(len)\n",
        "\n",
        "print(\"Feature engineering complete. Sample features:\")\n",
        "print(stockfish[['Event', 'avgloss', 'stddev', 'gamelength']].head())\n",
        "\n",
        "\n",
        "print(\"\\nMerging features with Elo ratings...\")\n",
        "traindata = stockfish[stockfish['Event'] <= 25000].merge(elodf, on='Event')\n",
        "testdata = stockfish[stockfish['Event'] > 25000]\n",
        "\n",
        "print(f\"Training data shape: {traindata.shape}\")\n",
        "print(f\"Testing data shape: {testdata.shape}\")\n",
        "\n",
        "features = ['avgloss', 'stddev', 'gamelength']\n",
        "xtrain = traindata[features]\n",
        "ywhite = traindata['WhiteElo']\n",
        "yblack = traindata['BlackElo']\n",
        "xtest = testdata[features]\n",
        "\n",
        "# Step 5: Train two separate models (one for White, one for Black)\n",
        "print(\"\\nTraining LightGBM models...\")\n",
        "modelwhite = lgb.LGBMRegressor(random_state=42)\n",
        "modelwhite.fit(xtrain, ywhite)\n",
        "\n",
        "modelblack = lgb.LGBMRegressor(random_state=42)\n",
        "modelblack.fit(xtrain, yblack)\n",
        "\n",
        "print(\"Models trained successfully.\")\n",
        "\n",
        "\n",
        "print(\"\\nMaking predictions on the test set...\")\n",
        "predictionswhite = modelwhite.predict(xtest)\n",
        "predictionsblack = modelblack.predict(xtest)\n",
        "\n",
        "submission = pd.DataFrame({\n",
        "    'Event': testdata['Event'],\n",
        "    'WhiteElo': predictionswhite.astype(int),\n",
        "    'BlackElo': predictionsblack.astype(int)\n",
        "})\n",
        "\n",
        "submission.to_csv('submission.csv', index=False)\n",
        "print(\"\\nSubmission file 'submission.csv' created successfully!\")\n",
        "print(submission.head())"
      ],
      "metadata": {
        "colab": {
          "base_uri": "https://localhost:8080/"
        },
        "id": "hzZVP7_41Wia",
        "outputId": "45f717f9-6ef3-4724-985d-cb373598bce0"
      },
      "execution_count": 3,
      "outputs": [
        {
          "output_type": "stream",
          "name": "stdout",
          "text": [
            "Requirement already satisfied: python-chess in /usr/local/lib/python3.12/dist-packages (1.999)\n",
            "Requirement already satisfied: chess<2,>=1 in /usr/local/lib/python3.12/dist-packages (from python-chess) (1.11.2)\n",
            "Parsing PGN file to extract Elo ratings...\n",
            "Successfully extracted ratings for 25000 games.\n",
            "   Event  WhiteElo  BlackElo\n",
            "0      1      2354      2411\n",
            "1      2      2523      2460\n",
            "2      3      1915      1999\n",
            "3      4      2446      2191\n",
            "4      5      2168      2075\n",
            "\n",
            "Loading stockfish data and engineering features...\n",
            "Feature engineering complete. Sample features:\n",
            "   Event     avgloss       stddev  gamelength\n",
            "0      1    9.652174    26.431587          38\n",
            "1      2    7.400000    11.539487          13\n",
            "2      3  302.482759  2286.131735         106\n",
            "3      4   15.641026    51.525093          77\n",
            "4      5   27.058824   313.263595          49\n",
            "\n",
            "Merging features with Elo ratings...\n",
            "Training data shape: (25000, 8)\n",
            "Testing data shape: (25000, 6)\n",
            "\n",
            "Training LightGBM models...\n",
            "[LightGBM] [Info] Auto-choosing col-wise multi-threading, the overhead of testing was 0.000993 seconds.\n",
            "You can set `force_col_wise=true` to remove the overhead.\n",
            "[LightGBM] [Info] Total Bins 753\n",
            "[LightGBM] [Info] Number of data points in the train set: 25000, number of used features: 3\n",
            "[LightGBM] [Info] Start training from score 2246.851040\n",
            "[LightGBM] [Info] Auto-choosing col-wise multi-threading, the overhead of testing was 0.000864 seconds.\n",
            "You can set `force_col_wise=true` to remove the overhead.\n",
            "[LightGBM] [Info] Total Bins 753\n",
            "[LightGBM] [Info] Number of data points in the train set: 25000, number of used features: 3\n",
            "[LightGBM] [Info] Start training from score 2241.891320\n",
            "Models trained successfully.\n",
            "\n",
            "Making predictions on the test set...\n",
            "\n",
            "Submission file 'submission.csv' created successfully!\n",
            "       Event  WhiteElo  BlackElo\n",
            "25000  25001      2305      2314\n",
            "25001  25002      2120      2182\n",
            "25002  25003      2261      2214\n",
            "25003  25004      2365      2418\n",
            "25004  25005      2265      2243\n"
          ]
        }
      ]
    }
  ]
}